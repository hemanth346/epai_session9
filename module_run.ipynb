{
 "cells": [
  {
   "cell_type": "code",
   "execution_count": 1,
   "id": "73600a69",
   "metadata": {},
   "outputs": [],
   "source": [
    "import session9\n",
    "from session9 import *"
   ]
  },
  {
   "cell_type": "code",
   "execution_count": 2,
   "id": "6d66ca11",
   "metadata": {},
   "outputs": [
    {
     "data": {
      "text/plain": [
       "['Counter',\n",
       " 'Faker',\n",
       " '__builtins__',\n",
       " '__cached__',\n",
       " '__doc__',\n",
       " '__file__',\n",
       " '__loader__',\n",
       " '__name__',\n",
       " '__package__',\n",
       " '__spec__',\n",
       " 'datetime',\n",
       " 'fake',\n",
       " 'get_average_age_dt',\n",
       " 'get_average_age_nt',\n",
       " 'get_day_values',\n",
       " 'get_dict_profiles',\n",
       " 'get_largest_blood_type_dt',\n",
       " 'get_largest_blood_type_nt',\n",
       " 'get_mean_current_location_dt',\n",
       " 'get_mean_current_location_nt',\n",
       " 'get_namedtuple_profiles',\n",
       " 'get_oldest_person_age_dt',\n",
       " 'get_oldest_person_age_nt',\n",
       " 'get_stock_weights',\n",
       " 'get_tickers',\n",
       " 'namedtuple',\n",
       " 'perf_counter',\n",
       " 'random',\n",
       " 're']"
      ]
     },
     "execution_count": 2,
     "metadata": {},
     "output_type": "execute_result"
    }
   ],
   "source": [
    "dir(session9)"
   ]
  },
  {
   "cell_type": "code",
   "execution_count": 3,
   "id": "5626314f",
   "metadata": {},
   "outputs": [],
   "source": [
    "nt = get_namedtuple_profiles()"
   ]
  },
  {
   "cell_type": "code",
   "execution_count": 4,
   "id": "8ca3690b",
   "metadata": {},
   "outputs": [
    {
     "data": {
      "text/plain": [
       "Profile(job='Pensions consultant', company='Briggs-Roberts', ssn='169-77-6742', residence='492 Tony Bridge Suite 514\\nJohnsonbury, NE 19843', current_location=(Decimal('-72.148342'), Decimal('72.010405')), blood_group='AB-', website=['https://www.holland-phillips.com/', 'https://goodman-white.com/', 'http://marshall-brown.net/'], username='omoyer', name='Victoria Campbell', sex='F', address='483 Hernandez Prairie Apt. 223\\nJillianburgh, AR 49404', mail='owright@hotmail.com', birthdate=datetime.date(1978, 4, 9))"
      ]
     },
     "execution_count": 4,
     "metadata": {},
     "output_type": "execute_result"
    }
   ],
   "source": [
    "nt[0]"
   ]
  },
  {
   "cell_type": "code",
   "execution_count": 5,
   "id": "278a56ee",
   "metadata": {},
   "outputs": [
    {
     "data": {
      "text/plain": [
       "('O-', 1284)"
      ]
     },
     "execution_count": 5,
     "metadata": {},
     "output_type": "execute_result"
    }
   ],
   "source": [
    "get_largest_blood_type_nt(nt)"
   ]
  },
  {
   "cell_type": "code",
   "execution_count": 6,
   "id": "0ab23bda",
   "metadata": {},
   "outputs": [
    {
     "data": {
      "text/plain": [
       "(Decimal('-1.3057164926'), Decimal('1.8305266403'))"
      ]
     },
     "execution_count": 6,
     "metadata": {},
     "output_type": "execute_result"
    }
   ],
   "source": [
    "get_mean_current_location_nt(nt)"
   ]
  },
  {
   "cell_type": "code",
   "execution_count": 7,
   "id": "c65473f6",
   "metadata": {},
   "outputs": [
    {
     "name": "stdout",
     "output_type": "stream",
     "text": [
      "Oldest person age is 116 years and 25 days\n"
     ]
    },
    {
     "data": {
      "text/plain": [
       "42365"
      ]
     },
     "execution_count": 7,
     "metadata": {},
     "output_type": "execute_result"
    }
   ],
   "source": [
    "get_oldest_person_age_nt(nt)"
   ]
  },
  {
   "cell_type": "code",
   "execution_count": 8,
   "id": "4c9089c1",
   "metadata": {},
   "outputs": [
    {
     "name": "stdout",
     "output_type": "stream",
     "text": [
      "Average age is 57 years and 339 days\n"
     ]
    },
    {
     "data": {
      "text/plain": [
       "21144"
      ]
     },
     "execution_count": 8,
     "metadata": {},
     "output_type": "execute_result"
    }
   ],
   "source": [
    "get_average_age_nt(nt)"
   ]
  },
  {
   "cell_type": "code",
   "execution_count": null,
   "id": "e69923e5",
   "metadata": {},
   "outputs": [],
   "source": []
  },
  {
   "cell_type": "code",
   "execution_count": 9,
   "id": "772e0968",
   "metadata": {},
   "outputs": [],
   "source": [
    "dt = get_dict_profiles()"
   ]
  },
  {
   "cell_type": "code",
   "execution_count": 10,
   "id": "78bd652d",
   "metadata": {},
   "outputs": [
    {
     "data": {
      "text/plain": [
       "('B-', 1270)"
      ]
     },
     "execution_count": 10,
     "metadata": {},
     "output_type": "execute_result"
    }
   ],
   "source": [
    "get_largest_blood_type_dt(dt)"
   ]
  },
  {
   "cell_type": "code",
   "execution_count": 11,
   "id": "4f8d41fa",
   "metadata": {},
   "outputs": [
    {
     "data": {
      "text/plain": [
       "(Decimal('-0.13472313885'), Decimal('-1.5716716572'))"
      ]
     },
     "execution_count": 11,
     "metadata": {},
     "output_type": "execute_result"
    }
   ],
   "source": [
    "get_mean_current_location_dt(dt)"
   ]
  },
  {
   "cell_type": "code",
   "execution_count": 12,
   "id": "5d226b2c",
   "metadata": {},
   "outputs": [
    {
     "name": "stdout",
     "output_type": "stream",
     "text": [
      "Oldest person age is 116 years and 28 days\n"
     ]
    },
    {
     "data": {
      "text/plain": [
       "42368"
      ]
     },
     "execution_count": 12,
     "metadata": {},
     "output_type": "execute_result"
    }
   ],
   "source": [
    "get_oldest_person_age_dt(dt)"
   ]
  },
  {
   "cell_type": "code",
   "execution_count": 13,
   "id": "e5bbaa3a",
   "metadata": {},
   "outputs": [
    {
     "name": "stdout",
     "output_type": "stream",
     "text": [
      "Average age is 57 years and 334 days\n"
     ]
    },
    {
     "data": {
      "text/plain": [
       "21139"
      ]
     },
     "execution_count": 13,
     "metadata": {},
     "output_type": "execute_result"
    }
   ],
   "source": [
    "get_average_age_dt(dt)"
   ]
  },
  {
   "cell_type": "markdown",
   "id": "faddcb5f",
   "metadata": {},
   "source": [
    "### Speed test"
   ]
  },
  {
   "cell_type": "code",
   "execution_count": 31,
   "id": "c467f545",
   "metadata": {},
   "outputs": [],
   "source": [
    "from functools import partial\n",
    "def time_it(fn, *args, **kwargs):\n",
    "    start = perf_counter()                \n",
    "    for _ in range(10_000): \n",
    "        partial(fn, *args, **kwargs)            \n",
    "    end = perf_counter()                   \n",
    "    print(f'{fn.__name__} took {(end - start)*1e6} micro seconds for 10000 iterations')                                      \n",
    "    return (end - start)*1e6"
   ]
  },
  {
   "cell_type": "code",
   "execution_count": 32,
   "id": "bee7c53b",
   "metadata": {},
   "outputs": [
    {
     "name": "stdout",
     "output_type": "stream",
     "text": [
      "get_largest_blood_type_nt took 2334.0999999845735 micro seconds for 10000 iterations\n",
      "get_largest_blood_type_dt took 3994.2999999311724 micro seconds for 10000 iterations\n"
     ]
    },
    {
     "data": {
      "text/plain": [
       "3994.2999999311724"
      ]
     },
     "execution_count": 32,
     "metadata": {},
     "output_type": "execute_result"
    }
   ],
   "source": [
    "time_it(get_largest_blood_type_nt, nt)\n",
    "time_it(get_largest_blood_type_dt, dt)"
   ]
  },
  {
   "cell_type": "code",
   "execution_count": 42,
   "id": "ba9e8d40",
   "metadata": {},
   "outputs": [
    {
     "name": "stdout",
     "output_type": "stream",
     "text": [
      "get_mean_current_location_nt took 1769.4000000574306 micro seconds for 10000 iterations\n",
      "get_mean_current_location_dt took 1924.7999999834065 micro seconds for 10000 iterations\n"
     ]
    },
    {
     "data": {
      "text/plain": [
       "1924.7999999834065"
      ]
     },
     "execution_count": 42,
     "metadata": {},
     "output_type": "execute_result"
    }
   ],
   "source": [
    "time_it(get_mean_current_location_nt, nt)\n",
    "time_it(get_mean_current_location_dt, dt)"
   ]
  },
  {
   "cell_type": "code",
   "execution_count": 37,
   "id": "d9f834fb",
   "metadata": {},
   "outputs": [
    {
     "name": "stdout",
     "output_type": "stream",
     "text": [
      "get_oldest_person_age_nt took 1791.3000000362445 micro seconds for 10000 iterations\n",
      "get_oldest_person_age_dt took 1822.4000000373053 micro seconds for 10000 iterations\n"
     ]
    },
    {
     "data": {
      "text/plain": [
       "1822.4000000373053"
      ]
     },
     "execution_count": 37,
     "metadata": {},
     "output_type": "execute_result"
    }
   ],
   "source": [
    "time_it(get_oldest_person_age_nt, nt)\n",
    "time_it(get_oldest_person_age_dt, dt)"
   ]
  },
  {
   "cell_type": "code",
   "execution_count": 35,
   "id": "cfa0680a",
   "metadata": {},
   "outputs": [
    {
     "name": "stdout",
     "output_type": "stream",
     "text": [
      "get_average_age_nt took 1801.099999966027 micro seconds for 10000 iterations\n",
      "get_average_age_dt took 1854.2999999908716 micro seconds for 10000 iterations\n"
     ]
    },
    {
     "data": {
      "text/plain": [
       "1854.2999999908716"
      ]
     },
     "execution_count": 35,
     "metadata": {},
     "output_type": "execute_result"
    }
   ],
   "source": [
    "time_it(get_average_age_nt, nt)\n",
    "time_it(get_average_age_dt, dt)"
   ]
  },
  {
   "cell_type": "markdown",
   "id": "97a2fce0",
   "metadata": {},
   "source": [
    "---"
   ]
  },
  {
   "cell_type": "code",
   "execution_count": 14,
   "id": "10ddf6ba",
   "metadata": {},
   "outputs": [],
   "source": [
    "tickers = get_tickers()"
   ]
  },
  {
   "cell_type": "code",
   "execution_count": 15,
   "id": "8bfa7004",
   "metadata": {},
   "outputs": [],
   "source": [
    "weights = get_stock_weights()"
   ]
  },
  {
   "cell_type": "code",
   "execution_count": 16,
   "id": "71b7bee3",
   "metadata": {},
   "outputs": [
    {
     "data": {
      "text/plain": [
       "(2240.7635, 2278.3698, 2273.2841)"
      ]
     },
     "execution_count": 16,
     "metadata": {},
     "output_type": "execute_result"
    }
   ],
   "source": [
    "start, day_high, end = get_day_values(tickers, weights)\n",
    "start, day_high, end"
   ]
  },
  {
   "cell_type": "code",
   "execution_count": null,
   "id": "ad6c13c2",
   "metadata": {},
   "outputs": [],
   "source": []
  },
  {
   "cell_type": "code",
   "execution_count": null,
   "id": "39ddc1d1",
   "metadata": {},
   "outputs": [],
   "source": []
  }
 ],
 "metadata": {
  "kernelspec": {
   "display_name": "Python 3",
   "language": "python",
   "name": "python3"
  },
  "language_info": {
   "codemirror_mode": {
    "name": "ipython",
    "version": 3
   },
   "file_extension": ".py",
   "mimetype": "text/x-python",
   "name": "python",
   "nbconvert_exporter": "python",
   "pygments_lexer": "ipython3",
   "version": "3.9.1"
  },
  "varInspector": {
   "cols": {
    "lenName": 16,
    "lenType": 16,
    "lenVar": 40
   },
   "kernels_config": {
    "python": {
     "delete_cmd_postfix": "",
     "delete_cmd_prefix": "del ",
     "library": "var_list.py",
     "varRefreshCmd": "print(var_dic_list())"
    },
    "r": {
     "delete_cmd_postfix": ") ",
     "delete_cmd_prefix": "rm(",
     "library": "var_list.r",
     "varRefreshCmd": "cat(var_dic_list()) "
    }
   },
   "types_to_exclude": [
    "module",
    "function",
    "builtin_function_or_method",
    "instance",
    "_Feature"
   ],
   "window_display": false
  }
 },
 "nbformat": 4,
 "nbformat_minor": 5
}

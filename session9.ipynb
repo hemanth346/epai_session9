{
 "cells": [
  {
   "cell_type": "code",
   "execution_count": 1,
   "id": "e02d7a2d",
   "metadata": {
    "ExecuteTime": {
     "end_time": "2021-07-09T17:44:54.474006Z",
     "start_time": "2021-07-09T17:44:54.201284Z"
    }
   },
   "outputs": [],
   "source": [
    "import datetime\n",
    "from faker import Faker\n",
    "from collections import namedtuple\n",
    "from collections import Counter\n",
    "\n",
    "AGE_REFERENCE = datetime.datetime.strptime('09072021', \"%d%m%Y\").date()"
   ]
  },
  {
   "cell_type": "code",
   "execution_count": 2,
   "id": "5eb41087",
   "metadata": {
    "ExecuteTime": {
     "end_time": "2021-07-09T17:45:03.818881Z",
     "start_time": "2021-07-09T17:45:03.595635Z"
    }
   },
   "outputs": [],
   "source": [
    "fake = Faker()"
   ]
  },
  {
   "cell_type": "code",
   "execution_count": 3,
   "id": "40de5339",
   "metadata": {
    "ExecuteTime": {
     "end_time": "2021-07-09T17:45:04.716844Z",
     "start_time": "2021-07-09T17:45:04.700413Z"
    }
   },
   "outputs": [],
   "source": [
    "Profile = namedtuple('Profile', fake.profile().keys())"
   ]
  },
  {
   "cell_type": "code",
   "execution_count": 4,
   "id": "a618c1c7",
   "metadata": {
    "ExecuteTime": {
     "end_time": "2021-07-09T17:45:07.797920Z",
     "start_time": "2021-07-09T17:45:07.780490Z"
    }
   },
   "outputs": [],
   "source": [
    "Profile.__doc__ = 'Represents profile of a person using the attributes - job, company, ssn, residence, current_location, blood_group, website, username, name, sex, address, mail, birthdate'"
   ]
  },
  {
   "cell_type": "markdown",
   "id": "7d4279f7",
   "metadata": {},
   "source": [
    "### Using namedtuples"
   ]
  },
  {
   "cell_type": "code",
   "execution_count": 5,
   "id": "5b7e5da0",
   "metadata": {
    "ExecuteTime": {
     "end_time": "2021-07-09T17:45:55.157323Z",
     "start_time": "2021-07-09T17:45:20.734153Z"
    }
   },
   "outputs": [],
   "source": [
    "profiles_namedtuples_list = []\n",
    "\n",
    "for i in range(10_000):\n",
    "    profiles_namedtuples_list.append(Profile(**fake.profile()))"
   ]
  },
  {
   "cell_type": "code",
   "execution_count": 6,
   "id": "28ed31e5",
   "metadata": {
    "ExecuteTime": {
     "end_time": "2021-07-09T17:46:23.908182Z",
     "start_time": "2021-07-09T17:46:23.874995Z"
    }
   },
   "outputs": [
    {
     "data": {
      "text/plain": [
       "('O+', 1316)"
      ]
     },
     "execution_count": 6,
     "metadata": {},
     "output_type": "execute_result"
    }
   ],
   "source": [
    "# largest blood type\n",
    "blood_types = [profile.blood_group for profile in profiles_namedtuples_list]\n",
    "Counter(blood_types).most_common()[0]"
   ]
  },
  {
   "cell_type": "code",
   "execution_count": 7,
   "id": "cb9c3deb",
   "metadata": {
    "ExecuteTime": {
     "end_time": "2021-07-09T17:46:30.712974Z",
     "start_time": "2021-07-09T17:46:30.684034Z"
    }
   },
   "outputs": [
    {
     "data": {
      "text/plain": [
       "(Decimal('0.38947411395'), Decimal('0.3908626836'))"
      ]
     },
     "execution_count": 7,
     "metadata": {},
     "output_type": "execute_result"
    }
   ],
   "source": [
    "# mean-current_location\n",
    "current_locations = [profile.current_location for profile in profiles_namedtuples_list]\n",
    "(\n",
    "    sum(x[0] for x in current_locations)/len(current_locations), \n",
    "    sum(x[1] for x in current_locations)/len(current_locations)\n",
    ")"
   ]
  },
  {
   "cell_type": "code",
   "execution_count": 8,
   "id": "3323fb63",
   "metadata": {
    "ExecuteTime": {
     "end_time": "2021-07-09T17:46:32.651662Z",
     "start_time": "2021-07-09T17:46:32.639919Z"
    }
   },
   "outputs": [
    {
     "name": "stdout",
     "output_type": "stream",
     "text": [
      "Oldest person age is 116 years and 27 days\n"
     ]
    }
   ],
   "source": [
    "ages_in_days = [(AGE_REFERENCE - profile.birthdate).days for profile in profiles_namedtuples_list]\n",
    "\n",
    "# oldest_person_age\n",
    "years, days = divmod(max(ages_in_days),365)\n",
    "print(f'Oldest person age is {years} years and {days} days')"
   ]
  },
  {
   "cell_type": "code",
   "execution_count": 9,
   "id": "c28abceb",
   "metadata": {
    "ExecuteTime": {
     "end_time": "2021-07-09T17:46:34.923076Z",
     "start_time": "2021-07-09T17:46:34.900715Z"
    }
   },
   "outputs": [
    {
     "name": "stdout",
     "output_type": "stream",
     "text": [
      "Average age is 58 years and 115 days\n"
     ]
    }
   ],
   "source": [
    "# average_age\n",
    "avg_age = sum(ages_in_days) / len(ages_in_days)\n",
    "years, days = divmod(int(avg_age),365)\n",
    "print(f'Average age is {years} years and {days} days')"
   ]
  },
  {
   "cell_type": "code",
   "execution_count": null,
   "id": "cd471f79",
   "metadata": {},
   "outputs": [],
   "source": []
  },
  {
   "cell_type": "markdown",
   "id": "8710b931",
   "metadata": {},
   "source": [
    "### Using dicts"
   ]
  },
  {
   "cell_type": "code",
   "execution_count": 11,
   "id": "135f158f",
   "metadata": {
    "ExecuteTime": {
     "end_time": "2021-07-09T17:48:51.935755Z",
     "start_time": "2021-07-09T17:48:06.577674Z"
    }
   },
   "outputs": [],
   "source": [
    "profiles_dict_list = []\n",
    "\n",
    "for i in range(10_000):\n",
    "    profiles_dict_list.append(fake.profile())"
   ]
  },
  {
   "cell_type": "code",
   "execution_count": 13,
   "id": "14edefd0",
   "metadata": {
    "ExecuteTime": {
     "end_time": "2021-07-09T17:49:30.905975Z",
     "start_time": "2021-07-09T17:49:30.881695Z"
    }
   },
   "outputs": [
    {
     "data": {
      "text/plain": [
       "('A+', 1285)"
      ]
     },
     "execution_count": 13,
     "metadata": {},
     "output_type": "execute_result"
    }
   ],
   "source": [
    "# largest blood type\n",
    "blood_types = [profile['blood_group'] for profile in profiles_dict_list]\n",
    "Counter(blood_types).most_common()[0]"
   ]
  },
  {
   "cell_type": "code",
   "execution_count": 18,
   "id": "6285a12a",
   "metadata": {
    "ExecuteTime": {
     "end_time": "2021-07-09T17:50:51.285369Z",
     "start_time": "2021-07-09T17:50:51.257856Z"
    }
   },
   "outputs": [
    {
     "data": {
      "text/plain": [
       "(Decimal('-0.7011542331'), Decimal('0.2364534761'))"
      ]
     },
     "execution_count": 18,
     "metadata": {},
     "output_type": "execute_result"
    }
   ],
   "source": [
    "# mean-current_location\n",
    "current_locations = [profile['current_location'] for profile in profiles_dict_list]\n",
    "(\n",
    "    sum(x[0] for x in current_locations)/len(current_locations), \n",
    "    sum(x[1] for x in current_locations)/len(current_locations)\n",
    ")"
   ]
  },
  {
   "cell_type": "code",
   "execution_count": 19,
   "id": "2b2dd972",
   "metadata": {
    "ExecuteTime": {
     "end_time": "2021-07-09T17:51:02.368935Z",
     "start_time": "2021-07-09T17:51:02.352108Z"
    }
   },
   "outputs": [
    {
     "name": "stdout",
     "output_type": "stream",
     "text": [
      "Oldest person age is 116 years and 26 days\n"
     ]
    }
   ],
   "source": [
    "ages_in_days = [(AGE_REFERENCE - profile['birthdate']).days for profile in profiles_dict_list]\n",
    "\n",
    "# oldest_person_age\n",
    "years, days = divmod(max(ages_in_days),365)\n",
    "print(f'Oldest person age is {years} years and {days} days')"
   ]
  },
  {
   "cell_type": "code",
   "execution_count": 20,
   "id": "de7404fe",
   "metadata": {
    "ExecuteTime": {
     "end_time": "2021-07-09T17:51:03.880129Z",
     "start_time": "2021-07-09T17:51:03.866527Z"
    }
   },
   "outputs": [
    {
     "name": "stdout",
     "output_type": "stream",
     "text": [
      "Average age is 58 years and 114 days\n"
     ]
    }
   ],
   "source": [
    "# average_age\n",
    "avg_age = sum(ages_in_days) / len(ages_in_days)\n",
    "years, days = divmod(int(avg_age),365)\n",
    "print(f'Average age is {years} years and {days} days')"
   ]
  },
  {
   "cell_type": "code",
   "execution_count": null,
   "id": "b74c1199",
   "metadata": {},
   "outputs": [],
   "source": []
  },
  {
   "cell_type": "code",
   "execution_count": null,
   "id": "649a019e",
   "metadata": {},
   "outputs": [],
   "source": []
  },
  {
   "cell_type": "markdown",
   "id": "67d549e3",
   "metadata": {},
   "source": [
    "### 3rd "
   ]
  },
  {
   "cell_type": "code",
   "execution_count": 21,
   "id": "d8e6590e",
   "metadata": {
    "ExecuteTime": {
     "end_time": "2021-07-09T18:09:31.498042Z",
     "start_time": "2021-07-09T18:09:31.487440Z"
    }
   },
   "outputs": [
    {
     "data": {
      "text/plain": [
       "'Harding, Brooks and Chapman'"
      ]
     },
     "execution_count": 21,
     "metadata": {},
     "output_type": "execute_result"
    }
   ],
   "source": [
    "fake.company()"
   ]
  },
  {
   "cell_type": "code",
   "execution_count": 50,
   "id": "c4b46cef",
   "metadata": {
    "ExecuteTime": {
     "end_time": "2021-07-09T18:55:00.322216Z",
     "start_time": "2021-07-09T18:55:00.304768Z"
    }
   },
   "outputs": [],
   "source": [
    "import random\n",
    "import re"
   ]
  },
  {
   "cell_type": "code",
   "execution_count": 51,
   "id": "fc61d70f",
   "metadata": {
    "ExecuteTime": {
     "end_time": "2021-07-09T18:55:09.847274Z",
     "start_time": "2021-07-09T18:55:09.841527Z"
    }
   },
   "outputs": [],
   "source": [
    "# import string\n",
    "# string.ascii_uppercase = 'ABCDEFGHIJKLMNOPQRSTUVWXYZ'\n",
    "# company_symbol = ''.join(random.choice(string.ascii_uppercase) for _ in range(3))"
   ]
  },
  {
   "cell_type": "code",
   "execution_count": 52,
   "id": "bf4abafb",
   "metadata": {
    "ExecuteTime": {
     "end_time": "2021-07-09T18:55:12.197214Z",
     "start_time": "2021-07-09T18:55:12.191717Z"
    }
   },
   "outputs": [],
   "source": [
    "Ticker = namedtuple('Ticker', 'name symbol open high close')"
   ]
  },
  {
   "cell_type": "code",
   "execution_count": 111,
   "id": "ec604645",
   "metadata": {
    "ExecuteTime": {
     "end_time": "2021-07-09T19:13:23.838403Z",
     "start_time": "2021-07-09T19:13:23.816497Z"
    }
   },
   "outputs": [
    {
     "data": {
      "text/plain": [
       "('Martinez Inc', 'MIZ')"
      ]
     },
     "execution_count": 111,
     "metadata": {},
     "output_type": "execute_result"
    }
   ],
   "source": [
    "company = fake.company()\n",
    "symbol = re.sub(\"[^a-zA-Z]+\", \"\", company.upper())\n",
    "symbol = company[0] + ''.join(random.sample(symbol, k=2))\n",
    "company, symbol"
   ]
  },
  {
   "cell_type": "code",
   "execution_count": 90,
   "id": "ae9444f6",
   "metadata": {
    "ExecuteTime": {
     "end_time": "2021-07-09T19:11:03.573057Z",
     "start_time": "2021-07-09T19:11:03.560402Z"
    }
   },
   "outputs": [
    {
     "data": {
      "text/plain": [
       "['E', 'T', 'A']"
      ]
     },
     "execution_count": 90,
     "metadata": {},
     "output_type": "execute_result"
    }
   ],
   "source": [
    "random.sample(re.sub(\"[^a-zA-Z]+\", \"\", company.upper()),k=3)"
   ]
  },
  {
   "cell_type": "code",
   "execution_count": 76,
   "id": "36c1d3a2",
   "metadata": {
    "ExecuteTime": {
     "end_time": "2021-07-09T19:08:30.564968Z",
     "start_time": "2021-07-09T19:08:30.554261Z"
    }
   },
   "outputs": [
    {
     "data": {
      "text/plain": [
       "(10293.015582592985, 10330.473598174944, 10296.108815161553)"
      ]
     },
     "execution_count": 76,
     "metadata": {},
     "output_type": "execute_result"
    }
   ],
   "source": [
    "open = random.randrange(100, 100000) * random.random()\n",
    "close = open + 100*random.uniform(-1, 1)\n",
    "high = open if open > close else random.uniform(open, close)\n",
    "open, close, high"
   ]
  },
  {
   "cell_type": "code",
   "execution_count": 119,
   "id": "2016b685",
   "metadata": {
    "ExecuteTime": {
     "end_time": "2021-07-09T19:20:57.528038Z",
     "start_time": "2021-07-09T19:20:57.509729Z"
    }
   },
   "outputs": [
    {
     "data": {
      "text/plain": [
       "[0.4081333623808217, 1.8656345200927935, 0.8576155334064974]"
      ]
     },
     "execution_count": 119,
     "metadata": {},
     "output_type": "execute_result"
    }
   ],
   "source": [
    "# assigning weight - https://stackoverflow.com/a/2640067/7445772\n",
    "random_weights = [random.random() for _ in range(100)]\n",
    "total = sum(random_weights)\n",
    "random_weights = [100*(w/total) for w in random_weights]\n",
    "random_weights[:3]"
   ]
  },
  {
   "cell_type": "code",
   "execution_count": 158,
   "id": "c14b264d",
   "metadata": {
    "ExecuteTime": {
     "end_time": "2021-07-09T19:38:27.169829Z",
     "start_time": "2021-07-09T19:38:27.080481Z"
    }
   },
   "outputs": [],
   "source": [
    "tickers_list = []\n",
    "for i in range(100):\n",
    "    company = fake.company()\n",
    "    symbol = re.sub(\"[^a-zA-Z]+\", \"\", company.upper())\n",
    "    symbol = company[0] + ''.join(random.sample(symbol, k=2))\n",
    "    open = random.randrange(100, 10000) * random.random()\n",
    "    close = open + 100*random.uniform(1, -0.2)\n",
    "    high = open if open > close else random.uniform(close, close+random.uniform(1,10))\n",
    "    tickers_list.append(Ticker(company, symbol, round(open, 2), round(high, 2), round(close, 2)))"
   ]
  },
  {
   "cell_type": "code",
   "execution_count": 159,
   "id": "ee9d300e",
   "metadata": {
    "ExecuteTime": {
     "end_time": "2021-07-09T19:38:27.788926Z",
     "start_time": "2021-07-09T19:38:27.772405Z"
    }
   },
   "outputs": [
    {
     "data": {
      "text/plain": [
       "[Ticker(name='Rodriguez, Oliver and Simmons', symbol='RVI', open=1452.46, high=1485.33, close=1479.55),\n",
       " Ticker(name='Thornton, Foley and Elliott', symbol='TDE', open=147.2, high=147.2, close=138.9),\n",
       " Ticker(name='Rodriguez, Dixon and Norton', symbol='RXN', open=590.95, high=644.59, close=641.47),\n",
       " Ticker(name='Miller, Harrison and Ward', symbol='MAD', open=7692.56, high=7785.47, close=7784.99),\n",
       " Ticker(name='Peterson and Sons', symbol='PDO', open=4464.5, high=4467.39, close=4465.44),\n",
       " Ticker(name='Leon Inc', symbol='LEI', open=308.5, high=356.9, close=354.05),\n",
       " Ticker(name='Lucas, Thompson and Johnson', symbol='LUN', open=740.68, high=828.87, close=828.37),\n",
       " Ticker(name='Ryan Ltd', symbol='RLD', open=3114.75, high=3114.75, close=3099.53),\n",
       " Ticker(name='Park-Quinn', symbol='PKU', open=3648.84, high=3688.3, close=3682.0),\n",
       " Ticker(name='Bird, Mclaughlin and Hogan', symbol='BGA', open=316.19, high=342.65, close=342.58),\n",
       " Ticker(name='Silva, Barnett and Hardy', symbol='SAB', open=5528.52, high=5528.52, close=5513.38),\n",
       " Ticker(name='Owens-Martinez', symbol='OWT', open=1227.63, high=1256.46, close=1255.51),\n",
       " Ticker(name='Evans-Short', symbol='EVA', open=5.43, high=26.32, close=23.88),\n",
       " Ticker(name='Greene, Baker and Haley', symbol='GLA', open=5548.1, high=5635.68, close=5635.55),\n",
       " Ticker(name='Lambert, Wyatt and Rios', symbol='LAY', open=658.3, high=727.22, close=719.3),\n",
       " Ticker(name='Miller, Gonzalez and Hopkins', symbol='MLG', open=8740.03, high=8745.22, close=8744.74),\n",
       " Ticker(name='Carey Ltd', symbol='CAY', open=1434.82, high=1442.64, close=1439.16),\n",
       " Ticker(name='West PLC', symbol='WEC', open=514.42, high=520.47, close=519.46),\n",
       " Ticker(name='Johnson-Burgess', symbol='JGO', open=44.45, high=138.67, close=137.35),\n",
       " Ticker(name='Montgomery, Anderson and Wright', symbol='MGR', open=117.73, high=152.87, close=145.53),\n",
       " Ticker(name='Walters, Wagner and Miller', symbol='WLD', open=2292.39, high=2386.13, close=2382.4),\n",
       " Ticker(name='Davis, Roy and Tran', symbol='DRY', open=4324.19, high=4414.0, close=4411.77),\n",
       " Ticker(name='Rowland-Garcia', symbol='RON', open=3332.33, high=3380.85, close=3378.63),\n",
       " Ticker(name='Weber, Thompson and Bates', symbol='WET', open=2577.36, high=2593.27, close=2591.17),\n",
       " Ticker(name='Miller and Sons', symbol='MOS', open=5575.34, high=5654.58, close=5653.93),\n",
       " Ticker(name='Martinez LLC', symbol='MAE', open=1388.42, high=1432.02, close=1427.64),\n",
       " Ticker(name='Huffman, Lee and Wright', symbol='HAN', open=3242.71, high=3263.63, close=3262.64),\n",
       " Ticker(name='Mccullough and Sons', symbol='MSD', open=5945.93, high=5945.93, close=5941.86),\n",
       " Ticker(name='Wang Inc', symbol='WGW', open=1432.8, high=1432.8, close=1429.25),\n",
       " Ticker(name='Watts-Perez', symbol='WWZ', open=2830.11, high=2910.98, close=2910.2),\n",
       " Ticker(name='Fisher-Alexander', symbol='FAD', open=2284.19, high=2308.43, close=2304.98),\n",
       " Ticker(name='Parker-Smith', symbol='PIS', open=3146.61, high=3220.74, close=3214.1),\n",
       " Ticker(name='Hebert Ltd', symbol='HRD', open=6286.03, high=6357.37, close=6353.93),\n",
       " Ticker(name='Keith LLC', symbol='KEK', open=8324.16, high=8324.16, close=8304.92),\n",
       " Ticker(name='Garza-Green', symbol='GGA', open=1307.68, high=1339.91, close=1334.58),\n",
       " Ticker(name='Jarvis-Lowery', symbol='JRJ', open=6402.83, high=6406.14, close=6405.83),\n",
       " Ticker(name='Craig-Wallace', symbol='CAG', open=380.78, high=380.78, close=363.41),\n",
       " Ticker(name='Smith, Johnson and Gillespie', symbol='SNE', open=971.71, high=1042.56, close=1036.36),\n",
       " Ticker(name='Carlson, Reid and Garcia', symbol='CAS', open=4809.35, high=4894.42, close=4892.7),\n",
       " Ticker(name='Key-Vang', symbol='KEN', open=23.4, high=88.2, close=80.7),\n",
       " Ticker(name='Bell and Sons', symbol='BNA', open=3738.84, high=3807.03, close=3800.99),\n",
       " Ticker(name='Hayes-Delgado', symbol='HHG', open=514.71, high=603.16, close=601.56),\n",
       " Ticker(name='Rodriguez-Ross', symbol='RIR', open=1085.87, high=1105.82, close=1099.61),\n",
       " Ticker(name='Anderson-Peters', symbol='AON', open=734.42, high=812.34, close=809.32),\n",
       " Ticker(name='Jones LLC', symbol='JCE', open=6145.3, high=6156.88, close=6155.43),\n",
       " Ticker(name='Ramirez-Castaneda', symbol='RAI', open=3495.21, high=3577.88, close=3570.76),\n",
       " Ticker(name='Dickson PLC', symbol='DNC', open=505.46, high=533.23, close=530.25),\n",
       " Ticker(name='Blackwell Ltd', symbol='BCK', open=7549.41, high=7569.71, close=7565.0),\n",
       " Ticker(name='Wagner, Phillips and Sanchez', symbol='WHN', open=1198.23, high=1198.23, close=1180.87),\n",
       " Ticker(name='Cox-Jacobs', symbol='CCX', open=4767.24, high=4833.98, close=4832.16),\n",
       " Ticker(name='Carter, Phelps and Rivera', symbol='CHP', open=5056.9, high=5090.86, close=5083.11),\n",
       " Ticker(name='Lee-Manning', symbol='LGE', open=7173.96, high=7186.83, close=7184.51),\n",
       " Ticker(name='Robinson Inc', symbol='RRC', open=2033.51, high=2049.78, close=2047.85),\n",
       " Ticker(name='Kim-Lewis', symbol='KLI', open=2974.93, high=3008.66, close=3006.37),\n",
       " Ticker(name='Abbott-Clark', symbol='ACA', open=290.76, high=320.85, close=319.34),\n",
       " Ticker(name='Gonzales, Martin and Cline', symbol='GLN', open=3418.13, high=3462.25, close=3454.78),\n",
       " Ticker(name='Smith-Rogers', symbol='STE', open=5440.75, high=5462.69, close=5461.3),\n",
       " Ticker(name='Williams-Watson', symbol='WIL', open=6416.33, high=6466.37, close=6464.48),\n",
       " Ticker(name='Kennedy-Ruiz', symbol='KDN', open=8254.9, high=8271.94, close=8271.58),\n",
       " Ticker(name='Hernandez Inc', symbol='HNH', open=1057.41, high=1159.78, close=1154.84),\n",
       " Ticker(name='Smith, Allen and Rogers', symbol='SRG', open=4986.01, high=5001.47, close=4995.92),\n",
       " Ticker(name='Krause, Case and Mason', symbol='KCA', open=174.81, high=247.52, close=242.19),\n",
       " Ticker(name='Williams Inc', symbol='WCL', open=1200.33, high=1282.33, close=1274.24),\n",
       " Ticker(name='Huang-Bullock', symbol='HUO', open=7682.21, high=7682.21, close=7668.23),\n",
       " Ticker(name='Cooper, Hutchinson and Rodriguez', symbol='CDC', open=6413.21, high=6427.88, close=6426.75),\n",
       " Ticker(name='Potter and Sons', symbol='POO', open=2212.65, high=2258.01, close=2255.53),\n",
       " Ticker(name='Grant and Sons', symbol='GNN', open=2180.9, high=2197.36, close=2193.36),\n",
       " Ticker(name='Fisher, Bender and Burnett', symbol='FRF', open=298.14, high=341.8, close=337.97),\n",
       " Ticker(name='Fields Group', symbol='FDP', open=4616.99, high=4657.85, close=4656.77),\n",
       " Ticker(name='Jones, Bush and Reyes', symbol='JSE', open=4046.03, high=4046.03, close=4044.05),\n",
       " Ticker(name='Pineda-Singh', symbol='PNP', open=29.1, high=105.46, close=104.19),\n",
       " Ticker(name='Miller, Keith and Foster', symbol='MLI', open=4392.2, high=4421.62, close=4413.92),\n",
       " Ticker(name='Chavez Group', symbol='CZC', open=3966.84, high=3982.69, close=3981.41),\n",
       " Ticker(name='Smith LLC', symbol='SHS', open=76.19, high=101.0, close=100.77),\n",
       " Ticker(name='Golden and Sons', symbol='GDO', open=272.26, high=335.42, close=333.79),\n",
       " Ticker(name='Decker LLC', symbol='DDC', open=1271.81, high=1361.14, close=1355.3),\n",
       " Ticker(name='Donaldson-Briggs', symbol='DSA', open=4509.73, high=4573.77, close=4570.37),\n",
       " Ticker(name='Shah-Frazier', symbol='SER', open=1646.97, high=1707.04, close=1702.1),\n",
       " Ticker(name='Smith, Cardenas and Harris', symbol='SSH', open=514.95, high=562.77, close=561.86),\n",
       " Ticker(name='Bowen, Jenkins and Pope', symbol='BIE', open=2775.42, high=2866.48, close=2861.06),\n",
       " Ticker(name='Hampton, White and Webster', symbol='HWA', open=1023.52, high=1057.2, close=1056.53),\n",
       " Ticker(name='Holmes-Duran', symbol='HSA', open=445.99, high=505.24, close=503.96),\n",
       " Ticker(name='Weiss, Sanchez and Byrd', symbol='WIN', open=5363.26, high=5428.93, close=5425.37),\n",
       " Ticker(name='Cummings LLC', symbol='CGM', open=3476.95, high=3527.64, close=3526.12),\n",
       " Ticker(name='Gardner and Sons', symbol='GRO', open=2911.32, high=2942.03, close=2940.19),\n",
       " Ticker(name='Petersen, Sheppard and Hunter', symbol='PDE', open=1640.52, high=1681.67, close=1677.55),\n",
       " Ticker(name='Vargas PLC', symbol='VAL', open=7575.39, high=7657.19, close=7653.22),\n",
       " Ticker(name='Miranda-May', symbol='MAA', open=5594.49, high=5695.39, close=5694.06),\n",
       " Ticker(name='Sanchez-Mcbride', symbol='SMA', open=1062.7, high=1062.7, close=1061.09),\n",
       " Ticker(name='Wilson, Wallace and Cox', symbol='WAX', open=3407.17, high=3435.5, close=3435.38),\n",
       " Ticker(name='Levine Ltd', symbol='LEL', open=711.93, high=767.48, close=766.94),\n",
       " Ticker(name='Myers, Joyce and Chapman', symbol='MNE', open=4509.98, high=4555.79, close=4553.52),\n",
       " Ticker(name='Wagner LLC', symbol='WEL', open=353.05, high=402.1, close=400.47),\n",
       " Ticker(name='Garcia Inc', symbol='GAN', open=1635.42, high=1715.83, close=1715.3),\n",
       " Ticker(name='Jones Group', symbol='JUO', open=320.7, high=329.13, close=328.67),\n",
       " Ticker(name='Hale-Thompson', symbol='HHL', open=4065.15, high=4119.66, close=4118.14),\n",
       " Ticker(name='Tate, Moore and Johnson', symbol='TDS', open=4575.0, high=4588.67, close=4587.6),\n",
       " Ticker(name='Lopez, Watson and Case', symbol='LST', open=1040.13, high=1080.99, close=1078.85),\n",
       " Ticker(name='Morrison-Santos', symbol='MRN', open=282.62, high=282.62, close=268.08),\n",
       " Ticker(name='Gibson, Kennedy and Bush', symbol='GEK', open=833.88, high=837.39, close=836.1)]"
      ]
     },
     "execution_count": 159,
     "metadata": {},
     "output_type": "execute_result"
    }
   ],
   "source": [
    "tickers_list"
   ]
  },
  {
   "cell_type": "code",
   "execution_count": 171,
   "id": "7908cbbd",
   "metadata": {
    "ExecuteTime": {
     "end_time": "2021-07-09T19:41:26.100171Z",
     "start_time": "2021-07-09T19:41:26.082069Z"
    }
   },
   "outputs": [],
   "source": [
    "start, day_high, end = 0, 0, 0\n",
    "for idx, ticker in enumerate(tickers_list):\n",
    "    start += ticker.open * random_weights[idx]\n",
    "    day_high += ticker.high * random_weights[idx]\n",
    "    end += ticker.close * random_weights[idx]\n",
    "\n",
    "start, day_high, end = [round(x, 2) for x in [start, day_high, end]]\n",
    "start, day_high, end = [x/100 for x in [start, day_high, end]]"
   ]
  },
  {
   "cell_type": "code",
   "execution_count": 173,
   "id": "90f430cf",
   "metadata": {
    "ExecuteTime": {
     "end_time": "2021-07-09T19:41:48.731248Z",
     "start_time": "2021-07-09T19:41:48.709684Z"
    }
   },
   "outputs": [
    {
     "data": {
      "text/plain": [
       "(2902.1123, 2947.5268, 2943.6618)"
      ]
     },
     "execution_count": 173,
     "metadata": {},
     "output_type": "execute_result"
    }
   ],
   "source": [
    "start, day_high, end"
   ]
  },
  {
   "cell_type": "code",
   "execution_count": null,
   "id": "4ce30cdc",
   "metadata": {},
   "outputs": [],
   "source": []
  },
  {
   "cell_type": "code",
   "execution_count": null,
   "id": "f6803224",
   "metadata": {},
   "outputs": [],
   "source": []
  }
 ],
 "metadata": {
  "kernelspec": {
   "display_name": "Python 3",
   "language": "python",
   "name": "python3"
  },
  "language_info": {
   "codemirror_mode": {
    "name": "ipython",
    "version": 3
   },
   "file_extension": ".py",
   "mimetype": "text/x-python",
   "name": "python",
   "nbconvert_exporter": "python",
   "pygments_lexer": "ipython3",
   "version": "3.9.1"
  },
  "varInspector": {
   "cols": {
    "lenName": 16,
    "lenType": 16,
    "lenVar": 40
   },
   "kernels_config": {
    "python": {
     "delete_cmd_postfix": "",
     "delete_cmd_prefix": "del ",
     "library": "var_list.py",
     "varRefreshCmd": "print(var_dic_list())"
    },
    "r": {
     "delete_cmd_postfix": ") ",
     "delete_cmd_prefix": "rm(",
     "library": "var_list.r",
     "varRefreshCmd": "cat(var_dic_list()) "
    }
   },
   "types_to_exclude": [
    "module",
    "function",
    "builtin_function_or_method",
    "instance",
    "_Feature"
   ],
   "window_display": false
  }
 },
 "nbformat": 4,
 "nbformat_minor": 5
}
